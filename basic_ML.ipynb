{
  "nbformat": 4,
  "nbformat_minor": 0,
  "metadata": {
    "colab": {
      "name": "basic ML.ipynb",
      "provenance": [],
      "collapsed_sections": [],
      "authorship_tag": "ABX9TyNdbx5tjC4/rJGFSiug3ZrA",
      "include_colab_link": true
    },
    "kernelspec": {
      "name": "python3",
      "display_name": "Python 3"
    },
    "language_info": {
      "name": "python"
    }
  },
  "cells": [
    {
      "cell_type": "markdown",
      "metadata": {
        "id": "view-in-github",
        "colab_type": "text"
      },
      "source": [
        "<a href=\"https://colab.research.google.com/github/bhargavitadala/basic-ML/blob/main/basic_ML.ipynb\" target=\"_parent\"><img src=\"https://colab.research.google.com/assets/colab-badge.svg\" alt=\"Open In Colab\"/></a>"
      ]
    },
    {
      "cell_type": "markdown",
      "metadata": {
        "id": "z0GUhIqxycpr"
      },
      "source": [
        "python progam for checking if given number is positive or not"
      ]
    },
    {
      "cell_type": "code",
      "metadata": {
        "colab": {
          "base_uri": "https://localhost:8080/"
        },
        "id": "Ph91qX-C3R1C",
        "outputId": "d1ddef0c-8c1a-45ce-e69d-b344835b292c"
      },
      "source": [
        "x=int(input())\n",
        "if x>=0:\n",
        "  print(\"given number is positive\")\n",
        "else:\n",
        "  print(\"given number is negitive\")"
      ],
      "execution_count": null,
      "outputs": [
        {
          "output_type": "stream",
          "text": [
            "7\n",
            "given number is positive\n"
          ],
          "name": "stdout"
        }
      ]
    },
    {
      "cell_type": "markdown",
      "metadata": {
        "id": "m8XsMczA33Cp"
      },
      "source": [
        "python program to check the given year is leap year or not"
      ]
    },
    {
      "cell_type": "code",
      "metadata": {
        "colab": {
          "base_uri": "https://localhost:8080/"
        },
        "id": "g_UrFVmH4aUg",
        "outputId": "045b00e1-2ba7-4fd1-d2b5-2dcfa8dbc0f3"
      },
      "source": [
        "print(\"enter the year\")\n",
        "a= int(input())\n",
        "if (a%4==0 and a%100!=0) or (a%400==0):\n",
        "  print(\"given year is leap year\")\n",
        "else:\n",
        "  print(\"given year if not a leap year\")"
      ],
      "execution_count": null,
      "outputs": [
        {
          "output_type": "stream",
          "text": [
            "enter the year\n",
            "2014\n",
            "given year if not a leap year\n"
          ],
          "name": "stdout"
        }
      ]
    },
    {
      "cell_type": "markdown",
      "metadata": {
        "id": "hRIIsrkC5j0M"
      },
      "source": [
        ""
      ]
    },
    {
      "cell_type": "markdown",
      "metadata": {
        "id": "D1kgV-e55zbM"
      },
      "source": [
        "python program to print sum of cubes upto given n number that means if we give a number n it will print 1^3+2^3+....n^3"
      ]
    },
    {
      "cell_type": "code",
      "metadata": {
        "colab": {
          "base_uri": "https://localhost:8080/"
        },
        "id": "jsWTv22e6ltV",
        "outputId": "c0557d87-179f-46ba-9b35-3a8cdf252073"
      },
      "source": [
        "n=int(input())\n",
        "s=0\n",
        "for i in range(0,n+1):\n",
        "  s+=i**3\n",
        "print(s)"
      ],
      "execution_count": null,
      "outputs": [
        {
          "output_type": "stream",
          "text": [
            "6\n",
            "441\n"
          ],
          "name": "stdout"
        }
      ]
    },
    {
      "cell_type": "markdown",
      "metadata": {
        "id": "18U_NVh07NbY"
      },
      "source": [
        "python program for adding factorials from 1 to n numbers,\n",
        "n is input and program will give 1!+2!+3!....n! as output"
      ]
    },
    {
      "cell_type": "code",
      "metadata": {
        "colab": {
          "base_uri": "https://localhost:8080/"
        },
        "id": "ut_VA6N98CRd",
        "outputId": "9ae76ed7-d162-4e22-a0ba-2655390e13f9"
      },
      "source": [
        "print(\"enter a number\")\n",
        "n=int(input())\n",
        "fact=1\n",
        "summ=0\n",
        "for i in range(1,n+1):\n",
        "  fact*=i\n",
        "  summ+=fact\n",
        "print(\"sum of the factorials =\",summ)\n",
        "\n",
        "\n",
        "\n",
        "\n",
        "\n",
        "\n"
      ],
      "execution_count": null,
      "outputs": [
        {
          "output_type": "stream",
          "text": [
            "enter a number\n",
            "7\n",
            "sum of the factorials = 5913\n"
          ],
          "name": "stdout"
        }
      ]
    },
    {
      "cell_type": "markdown",
      "metadata": {
        "id": "L9vk9G-kAXZ5"
      },
      "source": [
        "python program to print second highest odd number in the given list of numbers \n",
        "if the input is 1 6 3 7 8 4 then the output is 3"
      ]
    },
    {
      "cell_type": "code",
      "metadata": {
        "colab": {
          "base_uri": "https://localhost:8080/"
        },
        "id": "GMfColRaAwew",
        "outputId": "5edc5c64-1881-4629-8399-a6070b6c4ed1"
      },
      "source": [
        "l=[int(x) for x in input().split()]\n",
        "k = sorted(filter(lambda x : x%2==1,l))\n",
        "if len(k)>1:\n",
        "  print(k[1])\n",
        "else:\n",
        "  print(\"no solution\")"
      ],
      "execution_count": null,
      "outputs": [
        {
          "output_type": "stream",
          "text": [
            "1 3 7 5 9 0 4\n",
            "3\n"
          ],
          "name": "stdout"
        }
      ]
    }
  ]
}